{
  "cells":[
    {
      "cell_type":"code",
      "source":[
        "import numpy as np\n",
        "from mpmath import nsum, nprod, fac\n",
        "from statistics import mean\n",
        "import matplotlib.pyplot as plt\n",
        "import math\n",
        "import random"
      ],
      "execution_count":1,
      "outputs":[
        
      ],
      "metadata":{
        
      }
    },
    {
      "cell_type":"markdown",
      "source":[
        "# Моделирование системы массового обслуживания\n",
        "\n",
        "### Вариант 15\n",
        "\n",
        "Рассматривается простейшая двухканальная СМО с «нетерпеливыми» заявками . Интенсивность потока заявок $X = 3$ заявки\/ч; среднее время обслуживания одной заявки $t_{обс} = 1\/\\mu = 1 ч$; средний срок, в течение которого заявка «терпеливо» стоит в очереди, равен $0,5 ч$. Подсчитать финальные вероятности состояний, ограничиваясь теми, которые не меньше $0,001$. Найти характеристики эффективности СМО: абсолютную и относительную пропускные способности системы, среднее время пребывания заявки в системе, среднюю длину очереди."
      ],
      "attachments":{
        
      },
      "metadata":{
        
      }
    },
    {
      "cell_type":"markdown",
      "source":[
        "### Граф состояний системы\n",
        "\n",
        "![Граф состояний системы](https:\/\/i.imgur.com\/nQ7GP25.png)\n",
        "\n",
        "### Вычисление вероятности $p_0$\n",
        "$ \\rho = \\lambda \/ \\mu $\n",
        "\n",
        "$ \\beta = \\nu \/ \\mu $\n",
        "\n",
        "![](https:\/\/i.imgur.com\/ji76ki9.png)\n",
        "\n",
        "![](https:\/\/i.imgur.com\/t7ZqK8S.png)\n",
        "\n",
        "Имеем $ \\lambda = 3, \\mu = 1, \\nu = 2, \\rho = 3, \\beta = 2, n = 2 $\n",
        "\n",
        "![](https:\/\/i.imgur.com\/T5wLBs1.png)\n",
        "\n",
        "### Вычисление остальных финальных вероятностей состояний $p_1 - p_8$\n",
        "\n",
        "![](https:\/\/i.imgur.com\/Mk3l1bX.png)\n",
        "\n",
        "![](https:\/\/i.imgur.com\/GW3Vczz.png)"
      ],
      "attachments":{
        
      },
      "metadata":{
        
      }
    },
    {
      "cell_type":"markdown",
      "source":[
        "## Реализация модели системы массового обслуживания"
      ],
      "attachments":{
        
      },
      "metadata":{
        
      }
    },
    {
      "cell_type":"markdown",
      "source":[
        "Предложенная система является простейшей, т.е. интервалы времени между событиями в потоках имеют показательное распределение с параметром, равным интенсивности соответствующего потока.\n",
        "\n",
        "Для имитации простейших потоков событий воспользуемся следующей функцией:"
      ],
      "attachments":{
        
      },
      "metadata":{
        
      }
    },
    {
      "cell_type":"code",
      "source":[
        "def generate(param):\n",
        "    while True:\n",
        "        yield -math.log(random.random()) \/ param"
      ],
      "execution_count":2,
      "outputs":[
        
      ],
      "metadata":{
        
      }
    },
    {
      "cell_type":"markdown",
      "source":[
        "\n",
        "\n",
        "В описанной системе существует 3 вида событий, изменяющих состояние системы: \n",
        "* появление заявки,\n",
        "* конец обработки заявки,\n",
        "* выход заявки из очереди.\n",
        "\n",
        "При моделировании эти события будут расположены на временной прямой для последовательной обработки программой симуляции."
      ],
      "attachments":{
        
      },
      "metadata":{
        
      }
    },
    {
      "cell_type":"code",
      "source":[
        "class QueryArrived:\n",
        "    def __init__(self, timepoint):\n",
        "        self.timepoint = timepoint\n",
        "\n",
        "    def __str__(self):\n",
        "        return self.timepoint\n",
        "\n",
        "\n",
        "class QueryProcessed:\n",
        "    def __init__(self, start_timepoint, timepoint, channel):\n",
        "        self.start_timepoint = start_timepoint\n",
        "        self.timepoint = timepoint\n",
        "        self.channel = channel\n",
        "\n",
        "    def __str__(self):\n",
        "        return self.timepoint\n",
        "\n",
        "\n",
        "class QueryDropped:\n",
        "    def __init__(self, arrive_timepoint, deadline_timepoint):\n",
        "        self.arrive_timepoint = arrive_timepoint\n",
        "        self.timepoint = deadline_timepoint\n",
        "\n",
        "    def __str__(self):\n",
        "        return self.timepoint"
      ],
      "execution_count":3,
      "outputs":[
        
      ],
      "metadata":{
        
      }
    },
    {
      "cell_type":"markdown",
      "source":[
        "### Модель"
      ],
      "attachments":{
        
      },
      "metadata":{
        
      }
    },
    {
      "cell_type":"code",
      "source":[
        "class Model:\n",
        "    def __init__(self, n, lambd, apt, awt, queries):\n",
        "        random.seed()\n",
        "        self.n = n\n",
        "        self.m = 10\n",
        "        self.lambd = lambd\n",
        "        self.mu = 1 \/ apt\n",
        "        self.nu = 1 \/ awt\n",
        "        self.queries = queries\n",
        "\n",
        "        self.channel_availabilities = [True] * n\n",
        "        self.timeline = []\n",
        "        self.queue = []\n",
        "\n",
        "        self.busy_channels = 0\n",
        "\n",
        "        self.state_durations = []\n",
        "        self.final_state_durations = [0] * (n + self.m + 1)\n",
        "        self.last_state = 0\n",
        "        self.last_state_change_timepoint = 0\n",
        "\n",
        "        self.queries_processed = 0\n",
        "        self.queries_dropped = 0\n",
        "\n",
        "        self.processing_time = []\n",
        "        self.waiting_time = []\n",
        "\n",
        "    def start(self):\n",
        "        query_gen = self.generate(self.lambd)\n",
        "        processing_gen = self.generate(self.mu)\n",
        "        waiting_gen = self.generate(self.nu)\n",
        "\n",
        "        first_timepoint = next(query_gen)\n",
        "        self.timeline.append(QueryArrived(first_timepoint))\n",
        "\n",
        "        for _ in range(self.queries - 1):\n",
        "            timepoint = self.timeline[-1].timepoint + next(query_gen)\n",
        "            self.timeline.append(QueryArrived(timepoint))\n",
        "\n",
        "        for event in self.timeline:\n",
        "            if isinstance(event, QueryArrived):\n",
        "                has_available_channels, channel = self.find_channel()\n",
        "\n",
        "                if has_available_channels:\n",
        "                    query_processed_timepoint = event.timepoint + next(processing_gen)\n",
        "                    query_processed_event = QueryProcessed(event.timepoint, query_processed_timepoint, channel)\n",
        "                    self.insert(query_processed_event)\n",
        "                    self.record_state(event.timepoint)\n",
        "                    self.waiting_time.append(0)\n",
        "                else:\n",
        "                    waiting_deadline = event.timepoint + next(waiting_gen)\n",
        "                    self.insert(QueryDropped(event.timepoint, waiting_deadline))\n",
        "                    self.queue.append(event.timepoint)\n",
        "                    self.record_state(event.timepoint)\n",
        "\n",
        "            if isinstance(event, QueryProcessed):\n",
        "                self.queries_processed += 1\n",
        "                self.busy_channels -= 1\n",
        "                self.channel_availabilities[event.channel] = True\n",
        "                self.processing_time.append(event.timepoint - event.start_timepoint)\n",
        "\n",
        "                if len(self.queue) != 0:\n",
        "                    start_timepoint = self.queue.pop(0)\n",
        "\n",
        "                    query_processed_timepoint = event.timepoint + next(processing_gen)\n",
        "                    query_processed_event = QueryProcessed(event.timepoint, query_processed_timepoint,\n",
        "                                                           event.channel)\n",
        "                    self.channel_availabilities[event.channel] = False\n",
        "                    self.busy_channels += 1\n",
        "                    self.insert(query_processed_event)\n",
        "                    self.waiting_time.append(event.timepoint - start_timepoint)\n",
        "\n",
        "                self.record_state(event.timepoint)\n",
        "\n",
        "            if isinstance(event, QueryDropped):\n",
        "                query = [x for x in self.queue if x == event.arrive_timepoint]\n",
        "                if query:\n",
        "                    self.queries_dropped += 1\n",
        "                    self.queue = [x for x in self.queue if x != event.arrive_timepoint]\n",
        "                    self.record_state(event.timepoint)\n",
        "\n",
        "    @staticmethod\n",
        "    def generate(param):\n",
        "        while True:\n",
        "            yield -math.log(random.random()) \/ param\n",
        "\n",
        "    def insert(self, event):\n",
        "        for i in range(1, len(self.timeline)):\n",
        "            if self.timeline[i - 1].timepoint < event.timepoint < self.timeline[i].timepoint:\n",
        "                self.timeline.insert(i, event)\n",
        "                break\n",
        "        else:\n",
        "            self.timeline.append(event)\n",
        "\n",
        "    def find_channel(self):\n",
        "        for i, status in enumerate(self.channel_availabilities):\n",
        "            if status:\n",
        "                self.busy_channels += 1\n",
        "                self.channel_availabilities[i] = False\n",
        "\n",
        "                return True, i\n",
        "\n",
        "        return False, -1\n",
        "\n",
        "    def record_state(self, timepoint):\n",
        "        time_delta = timepoint - self.last_state_change_timepoint\n",
        "        self.final_state_durations[self.last_state] += time_delta\n",
        "\n",
        "        self.last_state_change_timepoint = timepoint\n",
        "        self.last_state = self.busy_channels + len(self.queue)\n",
        "\n",
        "        self.state_durations.append((timepoint, self.final_state_durations.copy()))\n",
        "\n",
        "    def show_empirical_stats(self):\n",
        "        print('EMPIRICAL STATS')\n",
        "        print('Queries processed:', self.queries_processed)\n",
        "        print('Queries dropped:', self.queries_dropped)\n",
        "\n",
        "        avg_processing = 0\n",
        "        probs = []\n",
        "        for k in range(self.n + 1):\n",
        "            pk = self.final_state_durations[k] \/ self.timeline[-1].timepoint\n",
        "            probs.append(pk)\n",
        "            avg_processing += k * pk\n",
        "            print(f'{k} channels are busy & 0 queries in queue | p{k} =', pk)\n",
        "\n",
        "        avg_queue_length = 0\n",
        "        s = self.n + 1\n",
        "        while True:\n",
        "            ps = self.final_state_durations[s] \/ self.timeline[-1].timepoint\n",
        "            if ps < 0.001:\n",
        "                break\n",
        "            probs.append(ps)\n",
        "            avg_queue_length += (s - self.n) * ps\n",
        "            print(f'{self.n} channels are busy & {s - self.n} queries in queue | p{self.n}+{s - self.n} =', ps)\n",
        "            s += 1\n",
        "\n",
        "        p_denial = self.queries_dropped \/ self.queries\n",
        "        Q = 1 - p_denial\n",
        "        A = self.lambd * Q\n",
        "        avg_waiting_time = mean(self.waiting_time)\n",
        "        avg_processing_time = mean(self.processing_time)\n",
        "        avg_total_time = avg_waiting_time + avg_processing_time\n",
        "        print('Relative throughput: ', Q)\n",
        "        print('Absolute throughput: ', A)\n",
        "        print('Average queue length: ', avg_queue_length)\n",
        "        print('Average time in system: ', avg_total_time)\n",
        "\n",
        "        return probs\n",
        "\n",
        "    def show_theoretical_stats(self):\n",
        "        print('THEORETICAL STATS')\n",
        "        ro = self.lambd \/ self.mu\n",
        "        p0 = 1 \/ (nsum(lambda k: ro ** k \/ fac(k), [0, self.n]) + (ro ** self.n \/ fac(self.n)) * nsum(\n",
        "            lambda i: self.lambd ** i \/ nprod(lambda l: (self.n * self.mu + l * self.nu), [1, i]), [1, self.m]))\n",
        "        print('0 channels are busy & 0 queries in queue | p0 =', p0)\n",
        "\n",
        "        avg_processing = 0\n",
        "        probs = [p0]\n",
        "        for k in range(1, self.n + 1):\n",
        "            pk = ro ** k * p0 \/ fac(k)\n",
        "            probs.append(pk)\n",
        "            avg_processing += k * pk\n",
        "            print(f'{k} channels are busy & 0 queries in queue | p{k} =', pk)\n",
        "\n",
        "        avg_queue_length = 0\n",
        "        s = 1\n",
        "        while True:\n",
        "            ps = (ro ** self.n) * (self.lambd ** s) * p0 \/ (fac(self.n) * nprod(lambda l: self.n * self.mu + l * self.nu, [1, s]))\n",
        "            if ps < 0.001:\n",
        "                break\n",
        "            probs.append(ps)\n",
        "            avg_queue_length += s * ps\n",
        "            print(f'{self.n} channels are busy & {s} queries in queue | p{self.n}+{s} =', ps)\n",
        "            s += 1\n",
        "\n",
        "        p_denial = 1 - (self.nu \/ self.lambd) * avg_processing\n",
        "        Q = 1 - p_denial\n",
        "        A = self.lambd * Q\n",
        "        avg_waiting_time = avg_queue_length \/ self.lambd\n",
        "        avg_processing_time = 1 \/ self.mu\n",
        "        avg_total_time = avg_processing_time + avg_waiting_time\n",
        "        print('Relative throughput: ', Q)\n",
        "        print('Absolute throughput: ', A)\n",
        "        print('Average queue length: ', avg_queue_length)\n",
        "        print('Average time in system: ', avg_total_time)\n",
        "        return probs\n",
        "\n",
        "    def show_stats(self):\n",
        "        e_probs = model.show_empirical_stats()\n",
        "        print()\n",
        "        t_probs = model.show_theoretical_stats()\n",
        "\n",
        "        _, ax = plt.subplots(1, 2)\n",
        "        ax[0].title.set_text(\n",
        "            f'Empirical probabilities')\n",
        "        ax[0].bar(list(np.arange(0, len(e_probs))), e_probs)\n",
        "        ax[1].title.set_text(\n",
        "            f'Theoretical probabilities')\n",
        "        ax[1].bar(list(np.arange(0, len(t_probs))), t_probs)\n",
        "        plt.show()"
      ],
      "execution_count":4,
      "outputs":[
        
      ],
      "metadata":{
        
      }
    },
    {
      "cell_type":"code",
      "source":[
        "channels = 2\n",
        "income_intensivity = 3\n",
        "processing_time = 1\n",
        "waiting_time = 0.5\n",
        "N = 1000\n",
        "\n",
        "model = Model(channels, income_intensivity, processing_time, waiting_time, N)\n",
        "model.start()\n",
        "model.show_stats()"
      ],
      "execution_count":5,
      "outputs":[
        {
          "name":"stdout",
          "text":[
            "EMPIRICAL STATS\n",
            "Queries processed: 571\n",
            "Queries dropped: 429\n",
            "0 channels are busy & 0 queries in queue | p0 = 0.06944186633990117\n",
            "1 channels are busy & 0 queries in queue | p1 = 0.20435792248720325\n",
            "2 channels are busy & 0 queries in queue | p2 = 0.2978737736053032\n",
            "2 channels are busy & 1 queries in queue | p2+1 = 0.24448753976260382\n",
            "2 channels are busy & 2 queries in queue | p2+2 = 0.12415441168384948\n",
            "2 channels are busy & 3 queries in queue | p2+3 = 0.041165639293813804\n",
            "2 channels are busy & 4 queries in queue | p2+4 = 0.01598733967057957\n",
            "2 channels are busy & 5 queries in queue | p2+5 = 0.0019801145593071707\n",
            "Relative throughput:  0.571\n",
            "Absolute throughput:  1.7129999999999999\n",
            "Average queue length:  0.6901432124905984\n",
            "Average time in system:  1.158631034672051\n",
            "\n",
            "THEORETICAL STATS\n",
            "0 channels are busy & 0 queries in queue | p0 = 0.0692277888991365\n",
            "1 channels are busy & 0 queries in queue | p1 = 0.20768336669741\n",
            "2 channels are busy & 0 queries in queue | p2 = 0.311525050046114\n",
            "2 channels are busy & 1 queries in queue | p2+1 = 0.233643787534586\n",
            "2 channels are busy & 2 queries in queue | p2+2 = 0.116821893767293\n",
            "2 channels are busy & 3 queries in queue | p2+3 = 0.0438082101627348\n",
            "2 channels are busy & 4 queries in queue | p2+4 = 0.0131424630488204\n",
            "2 channels are busy & 5 queries in queue | p2+5 = 0.00328561576220511\n",
            "Relative throughput:  0.553822311193092\n",
            "Absolute throughput:  1.66146693357928\n",
            "Average queue length:  0.667710136563683\n",
            "Average time in system:  1.22257004552123\n"
          ],
          "output_type":"stream"
        },
        {
          "data":{
            "image\/png":"[encoded data removed]"
          },
          "metadata":{
            "image\/png":{
              
            }
          },
          "output_type":"display_data"
        }
      ],
      "metadata":{
        
      }
    }
  ],
  "metadata":{
    
  },
  "nbformat":4,
  "nbformat_minor":0
}